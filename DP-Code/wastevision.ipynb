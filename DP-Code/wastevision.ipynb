{
 "cells": [
  {
   "cell_type": "code",
   "execution_count": 1,
   "metadata": {
    "colab": {
     "background_save": true,
     "base_uri": "https://localhost:8080/",
     "height": 549
    },
    "executionInfo": {
     "elapsed": 8039,
     "status": "ok",
     "timestamp": 1731486150849,
     "user": {
      "displayName": "Utkarsh Aggarwal",
      "userId": "10815827194998783736"
     },
     "user_tz": -330
    },
    "id": "qv1uTMo4yvzx"
   },
   "outputs": [
    {
     "name": "stdout",
     "output_type": "stream",
     "text": [
      "Collecting google-cloud-vision\n",
      "  Downloading google_cloud_vision-3.8.0-py2.py3-none-any.whl.metadata (5.3 kB)\n",
      "Requirement already satisfied: opencv-python-headless in /usr/local/lib/python3.10/dist-packages (4.10.0.84)\n",
      "Requirement already satisfied: google-api-core!=2.0.*,!=2.1.*,!=2.10.*,!=2.2.*,!=2.3.*,!=2.4.*,!=2.5.*,!=2.6.*,!=2.7.*,!=2.8.*,!=2.9.*,<3.0.0dev,>=1.34.1 in /usr/local/lib/python3.10/dist-packages (from google-api-core[grpc]!=2.0.*,!=2.1.*,!=2.10.*,!=2.2.*,!=2.3.*,!=2.4.*,!=2.5.*,!=2.6.*,!=2.7.*,!=2.8.*,!=2.9.*,<3.0.0dev,>=1.34.1->google-cloud-vision) (2.19.2)\n",
      "Requirement already satisfied: google-auth!=2.24.0,!=2.25.0,<3.0.0dev,>=2.14.1 in /usr/local/lib/python3.10/dist-packages (from google-cloud-vision) (2.27.0)\n",
      "Requirement already satisfied: proto-plus<2.0.0dev,>=1.22.3 in /usr/local/lib/python3.10/dist-packages (from google-cloud-vision) (1.25.0)\n",
      "Requirement already satisfied: protobuf!=4.21.0,!=4.21.1,!=4.21.2,!=4.21.3,!=4.21.4,!=4.21.5,<6.0.0dev,>=3.20.2 in /usr/local/lib/python3.10/dist-packages (from google-cloud-vision) (4.25.5)\n",
      "Requirement already satisfied: numpy>=1.21.2 in /usr/local/lib/python3.10/dist-packages (from opencv-python-headless) (1.26.4)\n",
      "Requirement already satisfied: googleapis-common-protos<2.0.dev0,>=1.56.2 in /usr/local/lib/python3.10/dist-packages (from google-api-core!=2.0.*,!=2.1.*,!=2.10.*,!=2.2.*,!=2.3.*,!=2.4.*,!=2.5.*,!=2.6.*,!=2.7.*,!=2.8.*,!=2.9.*,<3.0.0dev,>=1.34.1->google-api-core[grpc]!=2.0.*,!=2.1.*,!=2.10.*,!=2.2.*,!=2.3.*,!=2.4.*,!=2.5.*,!=2.6.*,!=2.7.*,!=2.8.*,!=2.9.*,<3.0.0dev,>=1.34.1->google-cloud-vision) (1.65.0)\n",
      "Requirement already satisfied: requests<3.0.0.dev0,>=2.18.0 in /usr/local/lib/python3.10/dist-packages (from google-api-core!=2.0.*,!=2.1.*,!=2.10.*,!=2.2.*,!=2.3.*,!=2.4.*,!=2.5.*,!=2.6.*,!=2.7.*,!=2.8.*,!=2.9.*,<3.0.0dev,>=1.34.1->google-api-core[grpc]!=2.0.*,!=2.1.*,!=2.10.*,!=2.2.*,!=2.3.*,!=2.4.*,!=2.5.*,!=2.6.*,!=2.7.*,!=2.8.*,!=2.9.*,<3.0.0dev,>=1.34.1->google-cloud-vision) (2.32.3)\n",
      "Requirement already satisfied: grpcio<2.0dev,>=1.33.2 in /usr/local/lib/python3.10/dist-packages (from google-api-core[grpc]!=2.0.*,!=2.1.*,!=2.10.*,!=2.2.*,!=2.3.*,!=2.4.*,!=2.5.*,!=2.6.*,!=2.7.*,!=2.8.*,!=2.9.*,<3.0.0dev,>=1.34.1->google-cloud-vision) (1.67.1)\n",
      "Requirement already satisfied: grpcio-status<2.0.dev0,>=1.33.2 in /usr/local/lib/python3.10/dist-packages (from google-api-core[grpc]!=2.0.*,!=2.1.*,!=2.10.*,!=2.2.*,!=2.3.*,!=2.4.*,!=2.5.*,!=2.6.*,!=2.7.*,!=2.8.*,!=2.9.*,<3.0.0dev,>=1.34.1->google-cloud-vision) (1.62.3)\n",
      "Requirement already satisfied: cachetools<6.0,>=2.0.0 in /usr/local/lib/python3.10/dist-packages (from google-auth!=2.24.0,!=2.25.0,<3.0.0dev,>=2.14.1->google-cloud-vision) (5.5.0)\n",
      "Requirement already satisfied: pyasn1-modules>=0.2.1 in /usr/local/lib/python3.10/dist-packages (from google-auth!=2.24.0,!=2.25.0,<3.0.0dev,>=2.14.1->google-cloud-vision) (0.4.1)\n",
      "Requirement already satisfied: rsa<5,>=3.1.4 in /usr/local/lib/python3.10/dist-packages (from google-auth!=2.24.0,!=2.25.0,<3.0.0dev,>=2.14.1->google-cloud-vision) (4.9)\n",
      "Requirement already satisfied: pyasn1<0.7.0,>=0.4.6 in /usr/local/lib/python3.10/dist-packages (from pyasn1-modules>=0.2.1->google-auth!=2.24.0,!=2.25.0,<3.0.0dev,>=2.14.1->google-cloud-vision) (0.6.1)\n",
      "Requirement already satisfied: charset-normalizer<4,>=2 in /usr/local/lib/python3.10/dist-packages (from requests<3.0.0.dev0,>=2.18.0->google-api-core!=2.0.*,!=2.1.*,!=2.10.*,!=2.2.*,!=2.3.*,!=2.4.*,!=2.5.*,!=2.6.*,!=2.7.*,!=2.8.*,!=2.9.*,<3.0.0dev,>=1.34.1->google-api-core[grpc]!=2.0.*,!=2.1.*,!=2.10.*,!=2.2.*,!=2.3.*,!=2.4.*,!=2.5.*,!=2.6.*,!=2.7.*,!=2.8.*,!=2.9.*,<3.0.0dev,>=1.34.1->google-cloud-vision) (3.4.0)\n",
      "Requirement already satisfied: idna<4,>=2.5 in /usr/local/lib/python3.10/dist-packages (from requests<3.0.0.dev0,>=2.18.0->google-api-core!=2.0.*,!=2.1.*,!=2.10.*,!=2.2.*,!=2.3.*,!=2.4.*,!=2.5.*,!=2.6.*,!=2.7.*,!=2.8.*,!=2.9.*,<3.0.0dev,>=1.34.1->google-api-core[grpc]!=2.0.*,!=2.1.*,!=2.10.*,!=2.2.*,!=2.3.*,!=2.4.*,!=2.5.*,!=2.6.*,!=2.7.*,!=2.8.*,!=2.9.*,<3.0.0dev,>=1.34.1->google-cloud-vision) (3.10)\n",
      "Requirement already satisfied: urllib3<3,>=1.21.1 in /usr/local/lib/python3.10/dist-packages (from requests<3.0.0.dev0,>=2.18.0->google-api-core!=2.0.*,!=2.1.*,!=2.10.*,!=2.2.*,!=2.3.*,!=2.4.*,!=2.5.*,!=2.6.*,!=2.7.*,!=2.8.*,!=2.9.*,<3.0.0dev,>=1.34.1->google-api-core[grpc]!=2.0.*,!=2.1.*,!=2.10.*,!=2.2.*,!=2.3.*,!=2.4.*,!=2.5.*,!=2.6.*,!=2.7.*,!=2.8.*,!=2.9.*,<3.0.0dev,>=1.34.1->google-cloud-vision) (2.2.3)\n",
      "Requirement already satisfied: certifi>=2017.4.17 in /usr/local/lib/python3.10/dist-packages (from requests<3.0.0.dev0,>=2.18.0->google-api-core!=2.0.*,!=2.1.*,!=2.10.*,!=2.2.*,!=2.3.*,!=2.4.*,!=2.5.*,!=2.6.*,!=2.7.*,!=2.8.*,!=2.9.*,<3.0.0dev,>=1.34.1->google-api-core[grpc]!=2.0.*,!=2.1.*,!=2.10.*,!=2.2.*,!=2.3.*,!=2.4.*,!=2.5.*,!=2.6.*,!=2.7.*,!=2.8.*,!=2.9.*,<3.0.0dev,>=1.34.1->google-cloud-vision) (2024.8.30)\n",
      "Downloading google_cloud_vision-3.8.0-py2.py3-none-any.whl (488 kB)\n",
      "\u001b[2K   \u001b[90m━━━━━━━━━━━━━━━━━━━━━━━━━━━━━━━━━━━━━━━━\u001b[0m \u001b[32m488.5/488.5 kB\u001b[0m \u001b[31m6.4 MB/s\u001b[0m eta \u001b[36m0:00:00\u001b[0m\n",
      "\u001b[?25hInstalling collected packages: google-cloud-vision\n",
      "Successfully installed google-cloud-vision-3.8.0\n"
     ]
    },
    {
     "data": {
      "application/vnd.colab-display-data+json": {
       "id": "615a27d65f304d098602348750a97b80",
       "pip_warning": {
        "packages": [
         "google"
        ]
       }
      }
     },
     "metadata": {},
     "output_type": "display_data"
    }
   ],
   "source": [
    "!pip install google-cloud-vision opencv-python-headless\n"
   ]
  },
  {
   "cell_type": "code",
   "execution_count": 2,
   "metadata": {
    "colab": {
     "background_save": true
    },
    "executionInfo": {
     "elapsed": 15,
     "status": "ok",
     "timestamp": 1731486150849,
     "user": {
      "displayName": "Utkarsh Aggarwal",
      "userId": "10815827194998783736"
     },
     "user_tz": -330
    },
    "id": "8M7wN2chy6Ha"
   },
   "outputs": [],
   "source": [
    "from google.colab import files"
   ]
  },
  {
   "cell_type": "code",
   "execution_count": 3,
   "metadata": {
    "colab": {
     "base_uri": "https://localhost:8080/",
     "height": 73
    },
    "executionInfo": {
     "elapsed": 15040,
     "status": "ok",
     "timestamp": 1731486165875,
     "user": {
      "displayName": "Utkarsh Aggarwal",
      "userId": "10815827194998783736"
     },
     "user_tz": -330
    },
    "id": "K47C0FgEy6Yt",
    "outputId": "fd87190c-04d3-4d2a-d05b-e6d915f4c0e8"
   },
   "outputs": [
    {
     "data": {
      "text/html": [
       "\n",
       "     <input type=\"file\" id=\"files-c9aa7bfd-023d-4f0b-a088-558518c620c6\" name=\"files[]\" multiple disabled\n",
       "        style=\"border:none\" />\n",
       "     <output id=\"result-c9aa7bfd-023d-4f0b-a088-558518c620c6\">\n",
       "      Upload widget is only available when the cell has been executed in the\n",
       "      current browser session. Please rerun this cell to enable.\n",
       "      </output>\n",
       "      <script>// Copyright 2017 Google LLC\n",
       "//\n",
       "// Licensed under the Apache License, Version 2.0 (the \"License\");\n",
       "// you may not use this file except in compliance with the License.\n",
       "// You may obtain a copy of the License at\n",
       "//\n",
       "//      http://www.apache.org/licenses/LICENSE-2.0\n",
       "//\n",
       "// Unless required by applicable law or agreed to in writing, software\n",
       "// distributed under the License is distributed on an \"AS IS\" BASIS,\n",
       "// WITHOUT WARRANTIES OR CONDITIONS OF ANY KIND, either express or implied.\n",
       "// See the License for the specific language governing permissions and\n",
       "// limitations under the License.\n",
       "\n",
       "/**\n",
       " * @fileoverview Helpers for google.colab Python module.\n",
       " */\n",
       "(function(scope) {\n",
       "function span(text, styleAttributes = {}) {\n",
       "  const element = document.createElement('span');\n",
       "  element.textContent = text;\n",
       "  for (const key of Object.keys(styleAttributes)) {\n",
       "    element.style[key] = styleAttributes[key];\n",
       "  }\n",
       "  return element;\n",
       "}\n",
       "\n",
       "// Max number of bytes which will be uploaded at a time.\n",
       "const MAX_PAYLOAD_SIZE = 100 * 1024;\n",
       "\n",
       "function _uploadFiles(inputId, outputId) {\n",
       "  const steps = uploadFilesStep(inputId, outputId);\n",
       "  const outputElement = document.getElementById(outputId);\n",
       "  // Cache steps on the outputElement to make it available for the next call\n",
       "  // to uploadFilesContinue from Python.\n",
       "  outputElement.steps = steps;\n",
       "\n",
       "  return _uploadFilesContinue(outputId);\n",
       "}\n",
       "\n",
       "// This is roughly an async generator (not supported in the browser yet),\n",
       "// where there are multiple asynchronous steps and the Python side is going\n",
       "// to poll for completion of each step.\n",
       "// This uses a Promise to block the python side on completion of each step,\n",
       "// then passes the result of the previous step as the input to the next step.\n",
       "function _uploadFilesContinue(outputId) {\n",
       "  const outputElement = document.getElementById(outputId);\n",
       "  const steps = outputElement.steps;\n",
       "\n",
       "  const next = steps.next(outputElement.lastPromiseValue);\n",
       "  return Promise.resolve(next.value.promise).then((value) => {\n",
       "    // Cache the last promise value to make it available to the next\n",
       "    // step of the generator.\n",
       "    outputElement.lastPromiseValue = value;\n",
       "    return next.value.response;\n",
       "  });\n",
       "}\n",
       "\n",
       "/**\n",
       " * Generator function which is called between each async step of the upload\n",
       " * process.\n",
       " * @param {string} inputId Element ID of the input file picker element.\n",
       " * @param {string} outputId Element ID of the output display.\n",
       " * @return {!Iterable<!Object>} Iterable of next steps.\n",
       " */\n",
       "function* uploadFilesStep(inputId, outputId) {\n",
       "  const inputElement = document.getElementById(inputId);\n",
       "  inputElement.disabled = false;\n",
       "\n",
       "  const outputElement = document.getElementById(outputId);\n",
       "  outputElement.innerHTML = '';\n",
       "\n",
       "  const pickedPromise = new Promise((resolve) => {\n",
       "    inputElement.addEventListener('change', (e) => {\n",
       "      resolve(e.target.files);\n",
       "    });\n",
       "  });\n",
       "\n",
       "  const cancel = document.createElement('button');\n",
       "  inputElement.parentElement.appendChild(cancel);\n",
       "  cancel.textContent = 'Cancel upload';\n",
       "  const cancelPromise = new Promise((resolve) => {\n",
       "    cancel.onclick = () => {\n",
       "      resolve(null);\n",
       "    };\n",
       "  });\n",
       "\n",
       "  // Wait for the user to pick the files.\n",
       "  const files = yield {\n",
       "    promise: Promise.race([pickedPromise, cancelPromise]),\n",
       "    response: {\n",
       "      action: 'starting',\n",
       "    }\n",
       "  };\n",
       "\n",
       "  cancel.remove();\n",
       "\n",
       "  // Disable the input element since further picks are not allowed.\n",
       "  inputElement.disabled = true;\n",
       "\n",
       "  if (!files) {\n",
       "    return {\n",
       "      response: {\n",
       "        action: 'complete',\n",
       "      }\n",
       "    };\n",
       "  }\n",
       "\n",
       "  for (const file of files) {\n",
       "    const li = document.createElement('li');\n",
       "    li.append(span(file.name, {fontWeight: 'bold'}));\n",
       "    li.append(span(\n",
       "        `(${file.type || 'n/a'}) - ${file.size} bytes, ` +\n",
       "        `last modified: ${\n",
       "            file.lastModifiedDate ? file.lastModifiedDate.toLocaleDateString() :\n",
       "                                    'n/a'} - `));\n",
       "    const percent = span('0% done');\n",
       "    li.appendChild(percent);\n",
       "\n",
       "    outputElement.appendChild(li);\n",
       "\n",
       "    const fileDataPromise = new Promise((resolve) => {\n",
       "      const reader = new FileReader();\n",
       "      reader.onload = (e) => {\n",
       "        resolve(e.target.result);\n",
       "      };\n",
       "      reader.readAsArrayBuffer(file);\n",
       "    });\n",
       "    // Wait for the data to be ready.\n",
       "    let fileData = yield {\n",
       "      promise: fileDataPromise,\n",
       "      response: {\n",
       "        action: 'continue',\n",
       "      }\n",
       "    };\n",
       "\n",
       "    // Use a chunked sending to avoid message size limits. See b/62115660.\n",
       "    let position = 0;\n",
       "    do {\n",
       "      const length = Math.min(fileData.byteLength - position, MAX_PAYLOAD_SIZE);\n",
       "      const chunk = new Uint8Array(fileData, position, length);\n",
       "      position += length;\n",
       "\n",
       "      const base64 = btoa(String.fromCharCode.apply(null, chunk));\n",
       "      yield {\n",
       "        response: {\n",
       "          action: 'append',\n",
       "          file: file.name,\n",
       "          data: base64,\n",
       "        },\n",
       "      };\n",
       "\n",
       "      let percentDone = fileData.byteLength === 0 ?\n",
       "          100 :\n",
       "          Math.round((position / fileData.byteLength) * 100);\n",
       "      percent.textContent = `${percentDone}% done`;\n",
       "\n",
       "    } while (position < fileData.byteLength);\n",
       "  }\n",
       "\n",
       "  // All done.\n",
       "  yield {\n",
       "    response: {\n",
       "      action: 'complete',\n",
       "    }\n",
       "  };\n",
       "}\n",
       "\n",
       "scope.google = scope.google || {};\n",
       "scope.google.colab = scope.google.colab || {};\n",
       "scope.google.colab._files = {\n",
       "  _uploadFiles,\n",
       "  _uploadFilesContinue,\n",
       "};\n",
       "})(self);\n",
       "</script> "
      ],
      "text/plain": [
       "<IPython.core.display.HTML object>"
      ]
     },
     "metadata": {},
     "output_type": "display_data"
    },
    {
     "name": "stdout",
     "output_type": "stream",
     "text": [
      "Saving waste-classification-441308-e1823ce93688.json to waste-classification-441308-e1823ce93688.json\n"
     ]
    }
   ],
   "source": [
    "uploaded = files.upload()\n",
    "SERVICE_ACCOUNT_FILE = list(uploaded.keys())[0]\n"
   ]
  },
  {
   "cell_type": "code",
   "execution_count": 4,
   "metadata": {
    "executionInfo": {
     "elapsed": 2030,
     "status": "ok",
     "timestamp": 1731486167902,
     "user": {
      "displayName": "Utkarsh Aggarwal",
      "userId": "10815827194998783736"
     },
     "user_tz": -330
    },
    "id": "CbJUBtFay6cL"
   },
   "outputs": [],
   "source": [
    "from google.cloud import vision\n",
    "import io\n",
    "import cv2\n",
    "from google.colab.patches import cv2_imshow\n",
    "from IPython.display import display, Javascript\n",
    "from google.colab.output import eval_js\n",
    "from base64 import b64decode\n",
    "import numpy as np"
   ]
  },
  {
   "cell_type": "code",
   "execution_count": 5,
   "metadata": {
    "executionInfo": {
     "elapsed": 11,
     "status": "ok",
     "timestamp": 1731486167902,
     "user": {
      "displayName": "Utkarsh Aggarwal",
      "userId": "10815827194998783736"
     },
     "user_tz": -330
    },
    "id": "oWddu7Y5y6fq"
   },
   "outputs": [],
   "source": [
    "client = vision.ImageAnnotatorClient.from_service_account_json(SERVICE_ACCOUNT_FILE)\n"
   ]
  },
  {
   "cell_type": "code",
   "execution_count": 6,
   "metadata": {
    "executionInfo": {
     "elapsed": 10,
     "status": "ok",
     "timestamp": 1731486167902,
     "user": {
      "displayName": "Utkarsh Aggarwal",
      "userId": "10815827194998783736"
     },
     "user_tz": -330
    },
    "id": "O-SajZ0oy6jM"
   },
   "outputs": [],
   "source": [
    "def capture_webcam_image():\n",
    "    js = Javascript('''\n",
    "        async function takePhoto() {\n",
    "            const video = document.createElement('video');\n",
    "            const stream = await navigator.mediaDevices.getUserMedia({video: true});\n",
    "            document.body.appendChild(video);\n",
    "            video.srcObject = stream;\n",
    "            await video.play();\n",
    "\n",
    "            // Adding delay to allow you time to adjust the material in the frame\n",
    "            await new Promise(resolve => setTimeout(resolve, 5000));\n",
    "\n",
    "            const canvas = document.createElement('canvas');\n",
    "            canvas.width = video.videoWidth;\n",
    "            canvas.height = video.videoHeight;\n",
    "            canvas.getContext('2d').drawImage(video, 0, 0);\n",
    "            stream.getTracks().forEach(track => track.stop());\n",
    "            video.remove();\n",
    "            return canvas.toDataURL('image/jpeg');\n",
    "        }\n",
    "        takePhoto();\n",
    "    ''')\n",
    "    display(js)\n",
    "    data = eval_js(\"takePhoto()\")\n",
    "    binary = b64decode(data.split(',')[1])\n",
    "    img_array = np.frombuffer(binary, dtype=np.uint8)\n",
    "    img = cv2.imdecode(img_array, cv2.IMREAD_COLOR)\n",
    "    return img\n"
   ]
  },
  {
   "cell_type": "code",
   "execution_count": 7,
   "metadata": {
    "executionInfo": {
     "elapsed": 10,
     "status": "ok",
     "timestamp": 1731486167902,
     "user": {
      "displayName": "Utkarsh Aggarwal",
      "userId": "10815827194998783736"
     },
     "user_tz": -330
    },
    "id": "ATd3BtXrz7eq"
   },
   "outputs": [],
   "source": [
    "def classify_image_with_vision_api(frame):\n",
    "    # Save the captured frame as a temporary image file\n",
    "    filename = \"temp_image.jpg\"\n",
    "    cv2.imwrite(filename, frame)\n",
    "\n",
    "    # Load the image file and send it to Google Vision API\n",
    "    with io.open(filename, 'rb') as image_file:\n",
    "        content = image_file.read()\n",
    "    image = vision.Image(content=content)\n",
    "\n",
    "    # Perform label detection\n",
    "    response = client.label_detection(image=image)\n",
    "    labels = response.label_annotations\n",
    "\n",
    "    # Display labels and score\n",
    "    for label in labels:\n",
    "        print(f'Description: {label.description}, Score: {label.score}')\n",
    "\n",
    "    # Simple classification based on common waste keywords\n",
    "    bio_keywords = [\"organic\", \"food\", \"plant\", \"vegetable\",'fruit', \"biodegradable\",\"book\", \"organic waste\",'organic', \"food waste\",'food', \"vegetable waste\",'peel', \"fruit peel\", \"banana peel\",\n",
    "    \"apple core\",'apple', \"tomato\", \"carrot peel\",'carrot','onion', \"onion skin\", \"garlic skin\",'garlic','patato', \"potato peel\",\n",
    "    \"cucumber peel\",'cucumber','coconut', \"coconut shell\", \"coconut husk\", \"leaves\", \"flower\", \"flowers\",\n",
    "    \"wood\", \"paper\", \"cardboard\", \"tissue\", \"paper napkin\",'napkin', \"cotton\", \"cotton fabric\",\n",
    "    \"bamboo\", \"compostable plate\", \"compostable cutlery\", \"paper bag\",'tea bag', \"used tea bag\",\"food waste\", \"leftover food\", \"vegetable scraps\", \"fruit peels\", \"fruit scraps\",\n",
    "    \"vegetable waste\", \"vegetable peels\", \"food scraps\", \"egg shells\", \"coffee grounds\",\n",
    "    \"tea bags\", \"tea leaves\", \"bread\", \"cereal\", \"pasta\", \"rice\", \"dairy products\",\n",
    "    \"meat scraps\", \"bones\", \"fish scraps\", \"paper towel\", \"napkins\", \"tissues\", \"paper cups\",\n",
    "    \"paper plates\", \"compostable cups\", \"compostable plates\", \"compostable packaging\",\n",
    "    \"compostable utensils\", \"cardboard\", \"paper waste\", \"cardboard boxes\", \"notebook paper\",\n",
    "    \"recycled paper\", \"leaf litter\", \"dried leaves\", \"branches\", \"flowers\", \"plant waste\",\n",
    "    \"grass clippings\", \"soil\", \"wood shavings\", \"sawdust\", \"cotton fabric\", \"wool fabric\",\n",
    "    \"linen fabric\", \"natural fibers\", \"compostable bags\", \"bamboo\", \"jute bags\", \"hemp products\",\n",
    "    \"cotton swabs\", \"wooden chopsticks\", \"toothpicks\", \"cork\", \"compostable gloves\", \"feathers\",\n",
    "    \"hair\", \"nail clippings\", \"burlap\", \"straw\", \"animal waste\", \"pet hair\", \"biodegradable bags\",\n",
    "    \"palm leaves\", \"bamboo products\", \"mulch\", \"corn husks\", \"wheat straw\", \"peanut shells\",\n",
    "    \"sunflower seeds\", \"rice husks\", \"coconut shells\", \"cotton wool\", \"plant roots\",\n",
    "    \"compostable straws\", \"compostable packaging material\", \"wooden stirrers\", \"sugarcane bagasse\",\n",
    "    \"palm fiber\", \"coconut fiber\", \"banana peels\", \"orange peels\", \"apple cores\",\n",
    "    \"grape stems\", \"stems\", \"plant trimmings\", \"cucumber peels\", \"tomato stems\",\n",
    "    \"flower petals\", \"seeds\", \"sugarcane stalks\", \"corn stalks\", \"bamboo sticks\",\n",
    "    \"biodegradable cutlery\", \"biodegradable packaging\", \"biodegradable plates\", \"biodegradable cups\",\n",
    "    \"natural paper\", \"wood scraps\", \"wood chips\", \"wicker\", \"clay pots\", \"compostable paper\",\n",
    "    \"pine needles\", \"natural sponges\", \"cereal grains\", \"popcorn kernels\", \"pistachio shells\",\n",
    "    \"orange rinds\", \"vegetable stems\", \"biodegradable containers\", \"compostable containers\",\n",
    "    \"compostable paper towels\", \"biodegradable napkins\", \"hemp cloth\", \"compostable labels\",\n",
    "    \"biodegradable cotton balls\", \"biodegradable wraps\", \"pressed leaves\", \"pasta scraps\",\n",
    "    \"rice paper\", \"wrapping paper\", \"gourds\", \"biodegradable mailers\", \"mushroom stems\",\n",
    "    \"natural dyes\", \"flowers\", \"herbs\", \"seasonal trimmings\", \"organic trimmings\", \"eco-friendly cloth\",\n",
    "    \"corn starch-based packaging\", \"potato starch-based materials\", \"corn husk packaging\",\n",
    "    \"coffee grounds\", \"bread\", \"chapati\", \"roti\", \"idli\", \"food scraps\", \"leftover food\",\n",
    "    \"egg shells\", \"fish bones\", \"chicken bones\", \"meat scraps\", \"egg carton\", \"used towel\",\n",
    "    \"used cloth\", \"pencil shavings\", \"hair\", \"feathers\", \"soil\", \"mud\", \"plant stem\",\n",
    "    \"vegetable stems\", \"herbs\", \"spinach\", \"curry leaves\", \"mint leaves\", \"papaya peel\", \"apple\", \"banana\", \"orange\", \"mango\", \"papaya\", \"guava\", \"grapes\", \"watermelon\",\n",
    "    \"muskmelon\", \"pomegranate\", \"pineapple\", \"lemon\", \"lime\", \"chikoo\", \"jackfruit\",\n",
    "    \"coconut\", \"custard apple\", \"fig\", \"pear\", \"peach\", \"plum\", \"lychee\", \"kiwi\",\n",
    "    \"strawberry\", \"blackberry\", \"blueberry\", \"raspberry\", \"tamarind\", \"amla\", \"cucumber\",\n",
    "    \"tomato\", \"onion\", \"potato\", \"garlic\", \"ginger\", \"carrot\", \"radish\", \"beetroot\",\n",
    "    \"cabbage\", \"cauliflower\", \"broccoli\", \"spinach\", \"fenugreek\", \"coriander\", \"mint\",\n",
    "    \"lettuce\", \"pumpkin\", \"bottle gourd\", \"bitter gourd\", \"ridge gourd\", \"snake gourd\",\n",
    "    \"ash gourd\", \"pointed gourd\", \"ivy gourd\", \"drumstick\", \"brinjal\", \"okra\", \"capsicum\",\n",
    "    \"chili pepper\", \"green beans\", \"peas\", \"corn\", \"sweet potato\", \"yam\", \"turnip\",\n",
    "    \"spring onion\", \"kale\", \"mushroom\", \"celery\", \"zucchini\", \"chayote\", \"leeks\",\n",
    "    \"bell pepper\", \"kohlrabi\", \"mustard greens\", \"amaranth leaves\", \"arugula\",\n",
    "    \"sweet lime\", \"sapota\", \"mulberry\", \"taro root\", \"mango seed\", \"banana peel\",\n",
    "    \"orange peel\", \"pomegranate peel\", \"lemon peel\", \"apple core\", \"papaya seeds\",\n",
    "    \"cantaloupe\", \"peach pit\", \"mango pit\", \"jackfruit seed\", \"bitter melon\",\n",
    "    \"tindora\", \"karela\", \"squash\", \"garlic skin\", \"ginger peel\", \"carrot tops\",\n",
    "    \"beet greens\", \"cauliflower stem\", \"cabbage core\", \"potato peels\", \"onion skin\",\n",
    "    \"brinjal stem\", \"okra stem\", \"corn husk\", \"pea pods\", \"mustard leaves\", \"turnip greens\",\n",
    "    \"radish greens\", \"mint stalk\", \"celery leaves\", \"pumpkin seeds\",\n",
    "    \"melon rind\", \"orange peel\", \"peach pit\", \"kiwi peel\", \"avocado pit\", \"lemon peel\",\n",
    "    \"fruit rind\", \"dried flowers\", \"greenery\", \"plant waste\", \"garden waste\", \"grass clippings\",\n",
    "    \"used napkins\", \"used paper towel\", \"cotton swab\", \"bamboo toothbrush\", \"dried herbs\",\n",
    "    \"sugarcane bagasse\", \"wooden chopsticks\", \"worn clothes\", \"compostable packaging\",\n",
    "    \"biodegradable cup\", \"biodegradable plastic\", \"biodegradable packaging\", \"compostable bag\"]\n",
    "    non_bio_keywords = [\"plastic\", \"metal\", \"non-biodegradable\", \"synthetic\", \"glass\",\n",
    "    \"plastic waste\", \"plastic bag\", \"plastic bottle\", \"plastic container\", \"plastic cap\",\n",
    "    \"plastic spoon\", \"plastic fork\", \"plastic knife\", \"plastic cup\", \"plastic plate\",\n",
    "    \"plastic straw\", \"plastic wrapper\", \"plastic packaging\", \"plastic lid\", \"polythene\",\n",
    "    \"polystyrene\", \"styrofoam\", \"polypropylene\",'watch', \"plastic film\", \"plastic sheet\", \"plastic tray\",\n",
    "    \"chips packet\",'pen', \"biscuit wrapper\", \"chocolate wrapper\", \"plastic food wrapper\",\n",
    "    \"plastic packaging tape\", \"aluminum foil\", \"aluminum can\", \"tin can\", \"metal can\",\n",
    "    \"glass bottle\", \"glass jar\", \"ceramic\", \"porcelain\", \"stainless steel\", \"iron\", \"steel scrap\",\n",
    "    \"electronics\", \"e-waste\", \"batteries\", \"phone charger\", \"toothbrush\", \"razor\", \"disposable razor\",\n",
    "    \"marker\", \"pen\", \"plastic pen\", \"highlighter\", \"sketch pen\", \"permanent marker\", \"ballpoint pen\",\n",
    "    \"sponges\", \"plastic toothbrush\", \"plastic toys\", \"plastic watch\", \"plastic bags\", \"diaper\",\n",
    "    \"sanitary pad\", \"plastic gloves\", \"rubber bands\", \"rubber tire\", \"vinyl\", \"PVC pipe\",\n",
    "    \"plastic pipe\", \"nylon\", \"polyester\", \"acrylic\", \"spandex\", \"synthetic fabric\", \"balloon\",\n",
    "    \"plastic bottle cap\", \"blister pack\", \"CD\", \"DVD\", \"old wires\", \"cables\", \"bottle caps\",\n",
    "    \"old toys\", \"plastic comb\", \"plastic storage box\", \"plastic bucket\", \"plastic liner\",\n",
    "    \"plastic garbage bag\", \"plastic packaging\", \"plastic wrap\", \"thermal receipt paper\",\n",
    "    \"plastic mailer\", \"shoes\", \"clothing\", \"sneakers\", \"rubber gloves\", \"plastic film\", \"bubble wrap\",\n",
    "    \"polystyrene foam\", \"plastic cups\", \"styrofoam cups\", \"plastic sheet\", \"plastic packaging film\",\n",
    "    \"toothpaste tube\", \"plastic toothpaste container\", \"hair ties\", \"clamshell packaging\", \"plastic tray\",\n",
    "    \"toiletry packaging\", \"cosmetic packaging\", \"furniture wrap\", \"plastic tags\", \"disposable cup\",\n",
    "    \"single-use plastic\", \"plastic utensils\", \"plastic cutlery\", \"clothing tags\", \"packing peanuts\",\n",
    "    \"plastic film wrap\", \"disposable face mask\", \"disposable gloves\", \"synthetic shoes\", \"plastic straws\",\n",
    "    \"chips packet\", \"biscuit wrapper\", \"chocolate wrapper\", \"plastic food wrapper\",\n",
    "    \"plastic packaging tape\", \"aluminum foil\", \"aluminum can\", \"tin can\", \"metal can\",\n",
    "    \"glass bottle\", \"glass jar\", \"ceramic\", \"porcelain\", \"stainless steel\", \"iron\", \"steel scrap\",\n",
    "    \"electronics\", \"e-waste\", \"batteries\", \"phone charger\", \"toothbrush\", \"razor\", \"disposable razor\",\n",
    "    \"marker\", \"pen\", \"plastic pen\", \"highlighter\", \"sketch pen\", \"permanent marker\", \"ballpoint pen\",\n",
    "    \"sponges\", \"plastic toothbrush\", \"plastic toys\", \"plastic watch\", \"diaper\",\n",
    "    \"sanitary pad\", \"plastic gloves\", \"rubber bands\", \"rubber tire\", \"vinyl\", \"PVC pipe\",\n",
    "    \"plastic pipe\", \"nylon\", \"polyester\", \"acrylic\", \"spandex\", \"synthetic fabric\", \"balloon\",\n",
    "    \"blister pack\", \"CD\", \"DVD\", \"old wires\", \"cables\", \"old toys\", \"plastic comb\", \"plastic storage box\",\n",
    "    \"plastic bucket\", \"plastic liner\", \"plastic garbage bag\", \"plastic mailer\", \"shoes\", \"clothing\",\n",
    "    \"sneakers\", \"rubber gloves\", \"bubble wrap\", \"polystyrene foam\", \"styrofoam cups\", \"plastic sheet\",\n",
    "    \"plastic packaging film\", \"toothpaste tube\", \"plastic toothpaste container\", \"hair ties\", \"clamshell packaging\",\n",
    "    \"plastic tray\", \"toiletry packaging\", \"cosmetic packaging\", \"furniture wrap\", \"plastic tags\",\n",
    "    \"disposable cup\", \"single-use plastic\", \"plastic utensils\", \"plastic cutlery\", \"clothing tags\",\n",
    "    \"packing peanuts\", \"plastic film wrap\", \"disposable face mask\", \"disposable gloves\", \"synthetic shoes\",\n",
    "    \"plastic straws\",    \"chips packet\", \"biscuit wrapper\", \"chocolate wrapper\", \"plastic food wrapper\",\n",
    "    \"plastic packaging tape\", \"aluminum foil\", \"aluminum can\", \"tin can\", \"metal can\",\n",
    "    \"glass bottle\", \"glass jar\", \"ceramic\", \"porcelain\", \"stainless steel\", \"iron\", \"steel scrap\",\n",
    "    \"electronics\", \"e-waste\", \"batteries\", \"phone charger\", \"toothbrush\", \"razor\", \"disposable razor\",\n",
    "    \"marker\", \"pen\", \"plastic pen\", \"highlighter\", \"sketch pen\", \"ballpoint pen\",\n",
    "    \"sponges\", \"plastic toothbrush\", \"plastic toys\", \"toys\", \"diaper\",\n",
    "    \"sanitary pad\", \"plastic gloves\", \"rubber bands\", \"rubber tire\", \"vinyl\", \"PVC pipe\",\n",
    "    \"plastic pipe\", \"nylon\", \"polyester\", \"acrylic\", \"spandex\", \"synthetic fabric\", \"balloon\",\n",
    "    \"blister pack\", \"CD\", \"DVD\", \"wires\", \"cables\", \"plastic comb\", \"plastic storage box\", 'comb'\n",
    "    \"plastic bucket\", \"plastic liner\", \"plastic garbage bag\", \"plastic mailer\", \"shoes\", \"clothing\",\n",
    "    \"sneakers\", \"rubber gloves\", \"bubble wrap\", \"polystyrene foam\", \"styrofoam cups\", \"plastic sheet\",\n",
    "    \"plastic packaging film\", \"toothpaste tube\", \"plastic toothpaste container\", \"hair ties\", \"clamshell packaging\",\n",
    "    \"plastic tray\", \"toiletry packaging\", \"cosmetic packaging\", \"furniture wrap\", \"plastic tags\",\n",
    "    \"disposable cup\", \"single-use plastic\", \"plastic utensils\", \"plastic cutlery\", \"clothing tags\",\n",
    "    \"packing peanuts\", \"plastic film wrap\", \"disposable face mask\", \"disposable gloves\", \"synthetic shoes\", 'utensils'\n",
    "    \"plastic straws\"\n",
    "]\n",
    "\n",
    "    # Check if labels contain any keywords\n",
    "    bio_score = sum(label.score for label in labels if any(keyword in label.description.lower() for keyword in bio_keywords))\n",
    "    non_bio_score = sum(label.score for label in labels if any(keyword in label.description.lower() for keyword in non_bio_keywords))\n",
    "\n",
    "    if bio_score > non_bio_score:\n",
    "        print(\"\\nClassification: Biodegradable\")\n",
    "    else:\n",
    "        print(\"\\nClassification: Non-biodegradable\")"
   ]
  },
  {
   "cell_type": "code",
   "execution_count": 9,
   "metadata": {
    "colab": {
     "base_uri": "https://localhost:8080/",
     "height": 1000,
     "output_embedded_package_id": "1BsgV_x8iKP0t-81ftBpcTcuzYwcnkYXd"
    },
    "executionInfo": {
     "elapsed": 198687,
     "status": "ok",
     "timestamp": 1731486379180,
     "user": {
      "displayName": "Utkarsh Aggarwal",
      "userId": "10815827194998783736"
     },
     "user_tz": -330
    },
    "id": "8_yRKcevz7bQ",
    "outputId": "fa2c0d87-5e72-4f27-d4dc-1e4fb11f5849"
   },
   "outputs": [
    {
     "data": {
      "text/plain": [
       "Output hidden; open in https://colab.research.google.com to view."
      ]
     },
     "metadata": {},
     "output_type": "display_data"
    }
   ],
   "source": [
    "while True:\n",
    "    frame = capture_webcam_image()\n",
    "    if frame is not None:\n",
    "        cv2_imshow(frame)  # Display captured image\n",
    "        classify_image_with_vision_api(frame)\n",
    "    else:\n",
    "        print(\"Failed to capture image\")\n",
    "        break\n",
    "    # Press 'q' to stop the loop (only works when interacting manually)\n",
    "    user_input = input(\"Press 'q' to quit or any other key to continue: \")\n",
    "    if user_input.lower() == 'q':\n",
    "        break"
   ]
  }
 ],
 "metadata": {
  "accelerator": "GPU",
  "colab": {
   "authorship_tag": "ABX9TyNPLK+zvFTB55cC+5PtYoD3",
   "gpuType": "T4",
   "name": "",
   "version": ""
  },
  "kernelspec": {
   "display_name": "Python 3",
   "name": "python3"
  },
  "language_info": {
   "codemirror_mode": {
    "name": "ipython",
    "version": 3
   },
   "file_extension": ".py",
   "mimetype": "text/x-python",
   "name": "python",
   "nbconvert_exporter": "python",
   "pygments_lexer": "ipython3",
   "version": "3.12.4"
  }
 },
 "nbformat": 4,
 "nbformat_minor": 0
}
